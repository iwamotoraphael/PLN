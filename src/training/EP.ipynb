{
  "cells": [
    {
      "cell_type": "markdown",
      "metadata": {
        "id": "2QxD2fq9s50z"
      },
      "source": [
        "# EP1 de Processamento de Língua Natural"
      ]
    },
    {
      "cell_type": "markdown",
      "metadata": {
        "id": "hkxIWUQ6tF-b"
      },
      "source": [
        "## Leitura e análise dos dados"
      ]
    },
    {
      "cell_type": "code",
      "execution_count": 4,
      "metadata": {
        "id": "GCmqrvf5mlkJ"
      },
      "outputs": [],
      "source": [
        "import pandas as pd\n",
        "import time\n",
        "from sklearn.feature_extraction.text import CountVectorizer\n",
        "from sklearn.linear_model import LogisticRegression\n",
        "from sklearn.dummy import DummyClassifier\n",
        "from sklearn.naive_bayes import MultinomialNB\n",
        "from sklearn.ensemble import RandomForestClassifier\n",
        "from sklearn.svm import SVC\n",
        "from sklearn.linear_model import SGDClassifier\n",
        "from sklearn.model_selection import cross_val_score\n",
        "from sklearn.metrics import accuracy_score\n",
        "from sklearn.feature_extraction.text import TfidfVectorizer"
      ]
    },
    {
      "cell_type": "code",
      "execution_count": 5,
      "metadata": {
        "colab": {
          "base_uri": "https://localhost:8080/",
          "height": 424
        },
        "id": "sngHsqNlons4",
        "outputId": "2c761b5b-11ea-41bc-eb02-3b1cea100be4"
      },
      "outputs": [
        {
          "data": {
            "text/html": [
              "<div>\n",
              "<style scoped>\n",
              "    .dataframe tbody tr th:only-of-type {\n",
              "        vertical-align: middle;\n",
              "    }\n",
              "\n",
              "    .dataframe tbody tr th {\n",
              "        vertical-align: top;\n",
              "    }\n",
              "\n",
              "    .dataframe thead th {\n",
              "        text-align: right;\n",
              "    }\n",
              "</style>\n",
              "<table border=\"1\" class=\"dataframe\">\n",
              "  <thead>\n",
              "    <tr style=\"text-align: right;\">\n",
              "      <th></th>\n",
              "      <th>resp_text</th>\n",
              "      <th>clarity</th>\n",
              "    </tr>\n",
              "  </thead>\n",
              "  <tbody>\n",
              "    <tr>\n",
              "      <th>0</th>\n",
              "      <td>Prezado Sr Jose Taunai  Em atenção ao seu pe...</td>\n",
              "      <td>c5</td>\n",
              "    </tr>\n",
              "    <tr>\n",
              "      <th>1</th>\n",
              "      <td>\"A pedido do Pró-Reitor de Graduação, informa...</td>\n",
              "      <td>c5</td>\n",
              "    </tr>\n",
              "    <tr>\n",
              "      <th>2</th>\n",
              "      <td>\"Prezado (a) Sr. (a), Agradecemos o contato e...</td>\n",
              "      <td>c234</td>\n",
              "    </tr>\n",
              "    <tr>\n",
              "      <th>3</th>\n",
              "      <td>\"Prezado (a) Sr. (a), Agradecemos o contato e...</td>\n",
              "      <td>c234</td>\n",
              "    </tr>\n",
              "    <tr>\n",
              "      <th>4</th>\n",
              "      <td>\"Prezado Prof. Gilberto Tadeu Reis da Silva  ...</td>\n",
              "      <td>c234</td>\n",
              "    </tr>\n",
              "    <tr>\n",
              "      <th>...</th>\n",
              "      <td>...</td>\n",
              "      <td>...</td>\n",
              "    </tr>\n",
              "    <tr>\n",
              "      <th>5995</th>\n",
              "      <td>Trata-se de solicitação com base na Lei de Ac...</td>\n",
              "      <td>c1</td>\n",
              "    </tr>\n",
              "    <tr>\n",
              "      <th>5996</th>\n",
              "      <td>Trata-se de uma solicitação repetida. As info...</td>\n",
              "      <td>c5</td>\n",
              "    </tr>\n",
              "    <tr>\n",
              "      <th>5997</th>\n",
              "      <td>Unidade:</td>\n",
              "      <td>c5</td>\n",
              "    </tr>\n",
              "    <tr>\n",
              "      <th>5998</th>\n",
              "      <td>Vale dizer que a gestão dos Telefones de Uso ...</td>\n",
              "      <td>c234</td>\n",
              "    </tr>\n",
              "    <tr>\n",
              "      <th>5999</th>\n",
              "      <td>WILHAN DONIZETE GONçALVES NUNES, neste NUP 23...</td>\n",
              "      <td>c234</td>\n",
              "    </tr>\n",
              "  </tbody>\n",
              "</table>\n",
              "<p>6000 rows × 2 columns</p>\n",
              "</div>"
            ],
            "text/plain": [
              "                                              resp_text clarity\n",
              "0       Prezado Sr Jose Taunai  Em atenção ao seu pe...      c5\n",
              "1      \"A pedido do Pró-Reitor de Graduação, informa...      c5\n",
              "2      \"Prezado (a) Sr. (a), Agradecemos o contato e...    c234\n",
              "3      \"Prezado (a) Sr. (a), Agradecemos o contato e...    c234\n",
              "4      \"Prezado Prof. Gilberto Tadeu Reis da Silva  ...    c234\n",
              "...                                                 ...     ...\n",
              "5995   Trata-se de solicitação com base na Lei de Ac...      c1\n",
              "5996   Trata-se de uma solicitação repetida. As info...      c5\n",
              "5997                                           Unidade:      c5\n",
              "5998   Vale dizer que a gestão dos Telefones de Uso ...    c234\n",
              "5999   WILHAN DONIZETE GONçALVES NUNES, neste NUP 23...    c234\n",
              "\n",
              "[6000 rows x 2 columns]"
            ]
          },
          "execution_count": 5,
          "metadata": {},
          "output_type": "execute_result"
        }
      ],
      "source": [
        "treino_dataset = pd.read_excel(io='../data/ep1_esic2023_clareza_TRAIN.xlsx')\n",
        "treino_dataset"
      ]
    },
    {
      "cell_type": "code",
      "execution_count": 6,
      "metadata": {
        "colab": {
          "base_uri": "https://localhost:8080/",
          "height": 175
        },
        "id": "pAe5K8oAldbq",
        "outputId": "567ead80-999e-4d5d-a678-67d5f9eaf130"
      },
      "outputs": [
        {
          "data": {
            "text/html": [
              "<div>\n",
              "<style scoped>\n",
              "    .dataframe tbody tr th:only-of-type {\n",
              "        vertical-align: middle;\n",
              "    }\n",
              "\n",
              "    .dataframe tbody tr th {\n",
              "        vertical-align: top;\n",
              "    }\n",
              "\n",
              "    .dataframe thead th {\n",
              "        text-align: right;\n",
              "    }\n",
              "</style>\n",
              "<table border=\"1\" class=\"dataframe\">\n",
              "  <thead>\n",
              "    <tr style=\"text-align: right;\">\n",
              "      <th></th>\n",
              "      <th>resp_text</th>\n",
              "      <th>clarity</th>\n",
              "    </tr>\n",
              "  </thead>\n",
              "  <tbody>\n",
              "    <tr>\n",
              "      <th>count</th>\n",
              "      <td>6000</td>\n",
              "      <td>6000</td>\n",
              "    </tr>\n",
              "    <tr>\n",
              "      <th>unique</th>\n",
              "      <td>5626</td>\n",
              "      <td>3</td>\n",
              "    </tr>\n",
              "    <tr>\n",
              "      <th>top</th>\n",
              "      <td>Prezado(a) Senhor(a),  Sua manifestação foi a...</td>\n",
              "      <td>c5</td>\n",
              "    </tr>\n",
              "    <tr>\n",
              "      <th>freq</th>\n",
              "      <td>41</td>\n",
              "      <td>2000</td>\n",
              "    </tr>\n",
              "  </tbody>\n",
              "</table>\n",
              "</div>"
            ],
            "text/plain": [
              "                                                resp_text clarity\n",
              "count                                                6000    6000\n",
              "unique                                               5626       3\n",
              "top      Prezado(a) Senhor(a),  Sua manifestação foi a...      c5\n",
              "freq                                                   41    2000"
            ]
          },
          "execution_count": 6,
          "metadata": {},
          "output_type": "execute_result"
        }
      ],
      "source": [
        "treino_dataset.describe()"
      ]
    },
    {
      "cell_type": "code",
      "execution_count": 7,
      "metadata": {
        "id": "zNzsQOKFrc4s"
      },
      "outputs": [
        {
          "data": {
            "text/plain": [
              "clarity\n",
              "c5      2000\n",
              "c234    2000\n",
              "c1      2000\n",
              "Name: count, dtype: int64"
            ]
          },
          "execution_count": 7,
          "metadata": {},
          "output_type": "execute_result"
        }
      ],
      "source": [
        "counts = treino_dataset['clarity'].value_counts()\n",
        "counts"
      ]
    },
    {
      "cell_type": "code",
      "execution_count": 8,
      "metadata": {},
      "outputs": [],
      "source": [
        "Y = treino_dataset.clarity"
      ]
    },
    {
      "cell_type": "markdown",
      "metadata": {
        "id": "A2bfGV1huTT_"
      },
      "source": [
        "## Vectorizers"
      ]
    },
    {
      "cell_type": "markdown",
      "metadata": {},
      "source": [
        "### Count Vectorizer"
      ]
    },
    {
      "cell_type": "code",
      "execution_count": 9,
      "metadata": {
        "colab": {
          "base_uri": "https://localhost:8080/"
        },
        "id": "rECmVmnNmSvr",
        "outputId": "fa8a29ae-9255-487d-8f8d-cbb6f2cb80a8"
      },
      "outputs": [
        {
          "name": "stdout",
          "output_type": "stream",
          "text": [
            "(6000, 28710)\n",
            "(6000,)\n"
          ]
        }
      ],
      "source": [
        "vect = CountVectorizer()\n",
        "count_X = vect.fit_transform(treino_dataset.resp_text)\n",
        "count_Y = Y\n",
        "\n",
        "print(count_X.shape)\n",
        "print(count_Y.shape)\n"
      ]
    },
    {
      "cell_type": "markdown",
      "metadata": {},
      "source": [
        "### TF-IDF Vectorizer"
      ]
    },
    {
      "cell_type": "code",
      "execution_count": 10,
      "metadata": {},
      "outputs": [
        {
          "name": "stdout",
          "output_type": "stream",
          "text": [
            "(6000, 28710)\n",
            "(6000,)\n"
          ]
        }
      ],
      "source": [
        "tfidf_vect = TfidfVectorizer()\n",
        "tfidf_X = tfidf_vect.fit_transform(treino_dataset.resp_text)\n",
        "tfidf_Y = Y\n",
        "\n",
        "print(tfidf_X.shape)\n",
        "print(tfidf_Y.shape)"
      ]
    },
    {
      "cell_type": "markdown",
      "metadata": {},
      "source": [
        "### TF-IDF Vectorizer Bigramas"
      ]
    },
    {
      "cell_type": "code",
      "execution_count": 11,
      "metadata": {},
      "outputs": [
        {
          "name": "stdout",
          "output_type": "stream",
          "text": [
            "(6000, 202965)\n",
            "(6000,)\n"
          ]
        }
      ],
      "source": [
        "tfidf_vect = TfidfVectorizer(ngram_range=(2,2))\n",
        "tfidf_bigram_X = tfidf_vect.fit_transform(treino_dataset.resp_text)\n",
        "tfidf_bigram_Y = Y\n",
        "\n",
        "print(tfidf_bigram_X.shape)\n",
        "print(tfidf_bigram_Y.shape)"
      ]
    },
    {
      "cell_type": "markdown",
      "metadata": {},
      "source": [
        "### TF-IDF Vectorizer 3-Char"
      ]
    },
    {
      "cell_type": "code",
      "execution_count": 12,
      "metadata": {},
      "outputs": [
        {
          "name": "stdout",
          "output_type": "stream",
          "text": [
            "(6000, 202965)\n",
            "(6000,)\n"
          ]
        }
      ],
      "source": [
        "tfidf_vect = TfidfVectorizer(analyzer='char', ngram_range=(3,3))\n",
        "tfidf_3_char_X = tfidf_vect.fit_transform(treino_dataset.resp_text)\n",
        "tfidf_3_char_Y = Y\n",
        "\n",
        "print(tfidf_bigram_X.shape)\n",
        "print(tfidf_bigram_Y.shape)"
      ]
    },
    {
      "cell_type": "markdown",
      "metadata": {},
      "source": [
        "### TF-IDF Vectorizer 5-Char"
      ]
    },
    {
      "cell_type": "code",
      "execution_count": 13,
      "metadata": {},
      "outputs": [
        {
          "name": "stdout",
          "output_type": "stream",
          "text": [
            "(6000, 202965)\n",
            "(6000,)\n"
          ]
        }
      ],
      "source": [
        "tfidf_vect = TfidfVectorizer(analyzer='char', ngram_range=(5,5))\n",
        "tfidf_5_char_X = tfidf_vect.fit_transform(treino_dataset.resp_text)\n",
        "tfidf_5_char_Y = Y\n",
        "\n",
        "print(tfidf_bigram_X.shape)\n",
        "print(tfidf_bigram_Y.shape)"
      ]
    },
    {
      "cell_type": "markdown",
      "metadata": {},
      "source": [
        "## Base"
      ]
    },
    {
      "cell_type": "markdown",
      "metadata": {},
      "source": [
        "### Funções"
      ]
    },
    {
      "cell_type": "code",
      "execution_count": 14,
      "metadata": {},
      "outputs": [],
      "source": [
        "def timing_decorator(func):\n",
        "    def wrapper(*args, **kwargs):\n",
        "        start_time = time.time()\n",
        "        result = func(*args, **kwargs)\n",
        "        end_time = time.time()\n",
        "        execution_time = end_time - start_time\n",
        "        print(f'{func.__name__} took {execution_time:.2f} seconds to run')\n",
        "\n",
        "        return result\n",
        "    \n",
        "    return wrapper"
      ]
    },
    {
      "cell_type": "code",
      "execution_count": 15,
      "metadata": {},
      "outputs": [],
      "source": [
        "@timing_decorator\n",
        "def calculate_model_score(clf, X, Y):\n",
        "    return cross_val_score(clf, X, Y, scoring='accuracy', cv=10).mean()"
      ]
    },
    {
      "cell_type": "code",
      "execution_count": 16,
      "metadata": {},
      "outputs": [],
      "source": [
        "def train_all(clf):\n",
        "    print('----------------------------------------------------')\n",
        "    print('Training Count Vectorizer')\n",
        "    result_logistic_count_vect = calculate_model_score(clf, count_X, count_Y)\n",
        "    print(f'Accuracy score: {result_logistic_count_vect}')\n",
        "\n",
        "    print('----------------------------------------------------')\n",
        "    print('Training TF-IDF Vectorizer')\n",
        "    result_logistic_tfidf = calculate_model_score(clf, tfidf_X, tfidf_Y)\n",
        "    print(f'Accuracy score: {result_logistic_tfidf}')\n",
        "\n",
        "    print('----------------------------------------------------')\n",
        "    print('Training TF-IDF Vectorizer Bigramas')\n",
        "    result_logistic_tfidf_bigram = calculate_model_score(clf, tfidf_bigram_X, tfidf_bigram_Y)\n",
        "    print(f'Accuracy score: {result_logistic_tfidf_bigram}')\n",
        "\n",
        "    print('----------------------------------------------------')\n",
        "    print('Training TF-IDF Vectorizer 3-Char')\n",
        "    result_logistic_tfidf_3_char = calculate_model_score(clf, tfidf_3_char_X, tfidf_3_char_Y)\n",
        "    print(f'Accuracy score: {result_logistic_tfidf_3_char}')\n",
        "\n",
        "    print('----------------------------------------------------')\n",
        "    print('Training TF-IDF Vectorizer 5-Char')\n",
        "    result_logistic_tfidf_5_char = calculate_model_score(clf, tfidf_5_char_X, tfidf_5_char_Y)\n",
        "    print(f'Accuracy score: {result_logistic_tfidf_5_char}')\n",
        "    print('----------------------------------------------------')"
      ]
    },
    {
      "cell_type": "markdown",
      "metadata": {
        "id": "b3wjggq8uV3g"
      },
      "source": [
        "## Modelos"
      ]
    },
    {
      "cell_type": "markdown",
      "metadata": {
        "id": "gnlzsGONuW3-"
      },
      "source": [
        "### Dummy"
      ]
    },
    {
      "cell_type": "code",
      "execution_count": 26,
      "metadata": {
        "colab": {
          "base_uri": "https://localhost:8080/"
        },
        "id": "J-Ty0GXWpM4h",
        "outputId": "f73a9533-7ae6-406e-b159-354f1ea56572"
      },
      "outputs": [
        {
          "data": {
            "text/plain": [
              "0.3333333333333333"
            ]
          },
          "execution_count": 26,
          "metadata": {},
          "output_type": "execute_result"
        }
      ],
      "source": [
        "clf_dummy = DummyClassifier(strategy='most_frequent', random_state=100, constant=None).fit(count_X, count_Y)\n",
        "result_dummy = clf_dummy.predict(count_X)\n",
        "accuracy_dummy = accuracy_score(count_Y, result_dummy)\n",
        "accuracy_dummy"
      ]
    },
    {
      "cell_type": "markdown",
      "metadata": {
        "id": "-d_08ymguYu0"
      },
      "source": [
        "### Regressão Logística"
      ]
    },
    {
      "cell_type": "code",
      "execution_count": 27,
      "metadata": {},
      "outputs": [
        {
          "name": "stdout",
          "output_type": "stream",
          "text": [
            "----------------------------------------------------\n",
            "Training Count Vectorizer\n",
            "calculate_model_score took 64.11 seconds to run\n",
            "Accuracy score: 0.43600000000000005\n",
            "----------------------------------------------------\n",
            "Training TF-IDF Vectorizer\n",
            "calculate_model_score took 9.52 seconds to run\n",
            "Accuracy score: 0.4608333333333333\n",
            "----------------------------------------------------\n",
            "Training TF-IDF Vectorizer Bigramas\n",
            "calculate_model_score took 44.70 seconds to run\n",
            "Accuracy score: 0.44783333333333336\n",
            "----------------------------------------------------\n",
            "Training TF-IDF Vectorizer 3-Char\n",
            "calculate_model_score took 23.91 seconds to run\n",
            "Accuracy score: 0.46316666666666667\n",
            "----------------------------------------------------\n",
            "Training TF-IDF Vectorizer 5-Char\n",
            "calculate_model_score took 71.47 seconds to run\n",
            "Accuracy score: 0.4616666666666667\n",
            "----------------------------------------------------\n"
          ]
        }
      ],
      "source": [
        "clf_logistic = LogisticRegression(class_weight='balanced', max_iter=1000, random_state=100)\n",
        "train_all(clf_logistic)"
      ]
    },
    {
      "cell_type": "markdown",
      "metadata": {},
      "source": [
        "### Naive Bayes"
      ]
    },
    {
      "cell_type": "code",
      "execution_count": 28,
      "metadata": {},
      "outputs": [
        {
          "name": "stdout",
          "output_type": "stream",
          "text": [
            "----------------------------------------------------\n",
            "Training Count Vectorizer\n",
            "calculate_model_score took 0.10 seconds to run\n",
            "Accuracy score: 0.4338333333333334\n",
            "----------------------------------------------------\n",
            "Training TF-IDF Vectorizer\n",
            "calculate_model_score took 0.09 seconds to run\n",
            "Accuracy score: 0.4371666666666667\n",
            "----------------------------------------------------\n",
            "Training TF-IDF Vectorizer Bigramas\n",
            "calculate_model_score took 0.15 seconds to run\n",
            "Accuracy score: 0.44366666666666665\n",
            "----------------------------------------------------\n",
            "Training TF-IDF Vectorizer 3-Char\n",
            "calculate_model_score took 0.16 seconds to run\n",
            "Accuracy score: 0.43100000000000005\n",
            "----------------------------------------------------\n",
            "Training TF-IDF Vectorizer 5-Char\n",
            "calculate_model_score took 0.30 seconds to run\n",
            "Accuracy score: 0.417\n",
            "----------------------------------------------------\n"
          ]
        }
      ],
      "source": [
        "clf_multinomial_naive_bayes = MultinomialNB()\n",
        "train_all(clf_multinomial_naive_bayes)"
      ]
    },
    {
      "cell_type": "markdown",
      "metadata": {},
      "source": [
        "### Random Forest"
      ]
    },
    {
      "cell_type": "code",
      "execution_count": 29,
      "metadata": {},
      "outputs": [
        {
          "name": "stdout",
          "output_type": "stream",
          "text": [
            "----------------------------------------------------\n",
            "Training Count Vectorizer\n",
            "calculate_model_score took 138.80 seconds to run\n",
            "Accuracy score: 0.43950000000000006\n",
            "----------------------------------------------------\n",
            "Training TF-IDF Vectorizer\n",
            "calculate_model_score took 128.80 seconds to run\n",
            "Accuracy score: 0.4381666666666666\n",
            "----------------------------------------------------\n",
            "Training TF-IDF Vectorizer Bigramas\n",
            "calculate_model_score took 2993.04 seconds to run\n",
            "Accuracy score: 0.42833333333333334\n",
            "----------------------------------------------------\n",
            "Training TF-IDF Vectorizer 3-Char\n",
            "calculate_model_score took 139.27 seconds to run\n",
            "Accuracy score: 0.44366666666666665\n",
            "----------------------------------------------------\n",
            "Training TF-IDF Vectorizer 5-Char\n",
            "calculate_model_score took 777.49 seconds to run\n",
            "Accuracy score: 0.4261666666666667\n",
            "----------------------------------------------------\n"
          ]
        }
      ],
      "source": [
        "clf_random_forest = RandomForestClassifier(class_weight='balanced', random_state=100)\n",
        "train_all(clf_random_forest)"
      ]
    },
    {
      "cell_type": "markdown",
      "metadata": {},
      "source": [
        "### Support Vector Machine (SVM)"
      ]
    },
    {
      "cell_type": "code",
      "execution_count": 30,
      "metadata": {},
      "outputs": [
        {
          "name": "stdout",
          "output_type": "stream",
          "text": [
            "----------------------------------------------------\n",
            "Training Count Vectorizer\n",
            "calculate_model_score took 157.24 seconds to run\n",
            "Accuracy score: 0.43066666666666664\n",
            "----------------------------------------------------\n",
            "Training TF-IDF Vectorizer\n",
            "calculate_model_score took 140.87 seconds to run\n",
            "Accuracy score: 0.4548333333333333\n",
            "----------------------------------------------------\n",
            "Training TF-IDF Vectorizer Bigramas\n",
            "calculate_model_score took 218.42 seconds to run\n",
            "Accuracy score: 0.45166666666666666\n",
            "----------------------------------------------------\n",
            "Training TF-IDF Vectorizer 3-Char\n",
            "calculate_model_score took 838.18 seconds to run\n",
            "Accuracy score: 0.4648333333333333\n",
            "----------------------------------------------------\n",
            "Training TF-IDF Vectorizer 5-Char\n",
            "calculate_model_score took 4428.43 seconds to run\n",
            "Accuracy score: 0.4629999999999999\n",
            "----------------------------------------------------\n"
          ]
        }
      ],
      "source": [
        "clf_svm = SVC(kernel='linear', class_weight='balanced', random_state=100)\n",
        "train_all(clf_svm)"
      ]
    },
    {
      "cell_type": "markdown",
      "metadata": {},
      "source": [
        "### SGD Classifier"
      ]
    },
    {
      "cell_type": "code",
      "execution_count": 17,
      "metadata": {},
      "outputs": [
        {
          "name": "stdout",
          "output_type": "stream",
          "text": [
            "----------------------------------------------------\n",
            "Training Count Vectorizer\n",
            "calculate_model_score took 1.24 seconds to run\n",
            "Accuracy score: 0.42716666666666664\n",
            "----------------------------------------------------\n",
            "Training TF-IDF Vectorizer\n",
            "calculate_model_score took 0.81 seconds to run\n",
            "Accuracy score: 0.4541666666666666\n",
            "----------------------------------------------------\n",
            "Training TF-IDF Vectorizer Bigramas\n",
            "calculate_model_score took 1.03 seconds to run\n",
            "Accuracy score: 0.4585\n",
            "----------------------------------------------------\n",
            "Training TF-IDF Vectorizer 3-Char\n",
            "calculate_model_score took 4.26 seconds to run\n",
            "Accuracy score: 0.4698333333333332\n",
            "----------------------------------------------------\n",
            "Training TF-IDF Vectorizer 5-Char\n",
            "calculate_model_score took 6.00 seconds to run\n",
            "Accuracy score: 0.45633333333333337\n",
            "----------------------------------------------------\n"
          ]
        }
      ],
      "source": [
        "clf_sgd = SGDClassifier(random_state=100)\n",
        "train_all(clf_sgd)"
      ]
    }
  ],
  "metadata": {
    "colab": {
      "provenance": []
    },
    "kernelspec": {
      "display_name": "Python 3",
      "name": "python3"
    },
    "language_info": {
      "codemirror_mode": {
        "name": "ipython",
        "version": 3
      },
      "file_extension": ".py",
      "mimetype": "text/x-python",
      "name": "python",
      "nbconvert_exporter": "python",
      "pygments_lexer": "ipython3",
      "version": "3.11.5"
    }
  },
  "nbformat": 4,
  "nbformat_minor": 0
}
